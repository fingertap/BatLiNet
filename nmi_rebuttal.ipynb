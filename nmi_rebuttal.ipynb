{
 "cells": [
  {
   "cell_type": "code",
   "execution_count": 17,
   "metadata": {},
   "outputs": [],
   "source": [
    "import sys\n",
    "import pandas as pd\n",
    "\n",
    "from pathlib import Path\n",
    "\n",
    "sys.path.append(str(Path.cwd()))\n",
    "from src.utils import import_config\n",
    "from src.builders import (MODELS, Task)"
   ]
  },
  {
   "cell_type": "code",
   "execution_count": 16,
   "metadata": {},
   "outputs": [],
   "source": [
    "config_path = Path('configs/ablation/diff_branch/batlinet/mix_100.yaml')\n",
    "ckpt_path = Path('workspaces/ablation/diff_branch/batlinet/mix_100/'\n",
    "                 '20240125084332_seed_0_epoch_1000.ckpt')\n",
    "configs = import_config(config_path, [\n",
    "    'model',\n",
    "    'train_test_split',\n",
    "    'feature',\n",
    "    'label',\n",
    "    'feature_transformation',\n",
    "    'label_transformation'\n",
    "])"
   ]
  },
  {
   "cell_type": "code",
   "execution_count": 18,
   "metadata": {},
   "outputs": [],
   "source": [
    "model = MODELS.build(configs['model'])\n",
    "model.load_checkpoint(ckpt_path)"
   ]
  },
  {
   "cell_type": "code",
   "execution_count": 21,
   "metadata": {},
   "outputs": [
    {
     "name": "stderr",
     "output_type": "stream",
     "text": [
      "Reading train data:  34%|███▍      | 70/205 [00:28<00:54,  2.49it/s]Exception ignored in: <bound method IPythonKernel._clean_thread_parent_frames of <ipykernel.ipkernel.IPythonKernel object at 0x7f6d65450a30>>\n",
      "Traceback (most recent call last):\n",
      "  File \"/opt/conda/lib/python3.10/site-packages/ipykernel/ipkernel.py\", line 775, in _clean_thread_parent_frames\n",
      "    def _clean_thread_parent_frames(\n",
      "KeyboardInterrupt: \n",
      "Reading train data:  52%|█████▏    | 107/205 [00:42<00:27,  3.52it/s]"
     ]
    }
   ],
   "source": [
    "dataset = Task(\n",
    "    label_annotator=configs['label'],\n",
    "    feature_extractor=configs['feature'],\n",
    "    train_test_splitter=configs['train_test_split'],\n",
    "    feature_transformation=configs['feature_transformation'],\n",
    "    label_transformation=configs['label_transformation']).build()"
   ]
  },
  {
   "cell_type": "markdown",
   "metadata": {},
   "source": [
    "### Support Battery Study\n",
    "\n",
    "We slowly change the support batteries in terms of:\n",
    "\n",
    "1. electrode material\n",
    "2. mean lifetime\n",
    "\n",
    "and we will see the change in battery life prediction."
   ]
  }
 ],
 "metadata": {
  "kernelspec": {
   "display_name": "base",
   "language": "python",
   "name": "python3"
  },
  "language_info": {
   "codemirror_mode": {
    "name": "ipython",
    "version": 3
   },
   "file_extension": ".py",
   "mimetype": "text/x-python",
   "name": "python",
   "nbconvert_exporter": "python",
   "pygments_lexer": "ipython3",
   "version": "3.10.13"
  }
 },
 "nbformat": 4,
 "nbformat_minor": 2
}
