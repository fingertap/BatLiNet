{
 "cells": [
  {
   "cell_type": "code",
   "execution_count": 1,
   "metadata": {},
   "outputs": [],
   "source": [
    "import torch\n",
    "import pickle\n",
    "import numpy as np\n",
    "from pathlib import Path\n",
    "import matplotlib.pyplot as plt\n",
    "\n",
    "from collections import defaultdict\n",
    "\n",
    "HOME = Path('/pvc4/battery/nmi_configs')\n",
    "\n",
    "def mape(x, y):\n",
    "    return torch.mean((x - y).abs() / y)"
   ]
  },
  {
   "cell_type": "code",
   "execution_count": 2,
   "metadata": {},
   "outputs": [],
   "source": [
    "workspace =  HOME / 'workspaces/transfer'\n",
    "preds = defaultdict(dict)\n",
    "for path in workspace.glob('*'):\n",
    "    mat, count = path.name.split('_')\n",
    "    preds_ = []\n",
    "    for pred_file in path.glob('preds*.pkl'):\n",
    "        with open(pred_file, 'rb') as f:\n",
    "            pred = pickle.load(f)\n",
    "        preds_.append(pred)\n",
    "    preds[mat][count] = preds_\n"
   ]
  },
  {
   "cell_type": "code",
   "execution_count": 22,
   "metadata": {},
   "outputs": [
    {
     "name": "stdout",
     "output_type": "stream",
     "text": [
      "intercd_preds 0.37164250016212463 intracd_preds 0.3420901596546173 finetune_preds 0.4568028450012207 tensor(0.3155)\n",
      "\n",
      "intercd_preds 0.32916706800460815 intracd_preds 0.39218273758888245 finetune_preds 2.6607401371002197 tensor(0.3539)\n",
      "\n",
      "intercd_preds 0.2726101279258728 intracd_preds 0.24864502251148224 finetune_preds 0.5202293992042542 tensor(0.2391)\n",
      "\n",
      "intercd_preds 0.9147775173187256 intracd_preds 0.5264322757720947 finetune_preds 0.6676366925239563 tensor(0.7204)\n",
      "\n",
      "intercd_preds 0.5200692415237427 intracd_preds 0.2866385877132416 finetune_preds 0.744026243686676 tensor(0.3890)\n",
      "\n",
      "intercd_preds 0.47455620765686035 intracd_preds 0.2832162380218506 finetune_preds 0.8278024196624756 tensor(0.3719)\n",
      "\n",
      "intercd_preds 0.33706405758857727 intracd_preds 0.3518770635128021 finetune_preds 0.37586989998817444 tensor(0.3417)\n",
      "\n",
      "intercd_preds 0.3246169686317444 intracd_preds 0.3028452694416046 finetune_preds 0.5715575218200684 tensor(0.2998)\n",
      "\n"
     ]
    }
   ],
   "source": [
    "for file in Path('/pvc4/battery/nmi_configs/workspaces/transfer_pos/NMC_1').glob('*.pkl'):\n",
    "    with open(file, 'rb') as f:\n",
    "        y = pickle.load(f)\n",
    "        for x in ['intercd_preds', 'intracd_preds', 'finetune_preds']:\n",
    "            score = mape(y[x], y['labels'])\n",
    "            print(x, score.item(), end=' ')\n",
    "        print(mape((y['intercd_preds'] + y['intracd_preds']) / 2, y['labels']))\n",
    "        print('')\n"
   ]
  },
  {
   "cell_type": "code",
   "execution_count": 4,
   "metadata": {},
   "outputs": [
    {
     "data": {
      "text/plain": [
       "defaultdict(dict,\n",
       "            {'LCO': {'16': [{'intercd_preds': tensor([1266.1785, 1165.8464,  769.0946,  496.0692,  420.4820,  810.2390,\n",
       "                         877.5687,  444.2342,  271.3041,  271.3532,  267.4570,  295.4696,\n",
       "                         261.0262,  236.5822,  279.5909,  257.1804,  204.7635,  211.1976,\n",
       "                         206.2965,  214.4874,  326.5588]),\n",
       "                'intracd_preds': tensor([551.5922, 578.0704, 589.7775, 540.2132, 449.1240, 741.3839, 611.7087,\n",
       "                        553.2409, 268.4343, 251.2568, 261.4382, 291.9220, 239.9379, 250.1857,\n",
       "                        260.8864, 228.4672, 141.0196, 172.8393, 181.1322, 201.2227, 416.9851]),\n",
       "                'finetune_preds': tensor([506.0107, 512.0403, 430.8390, 535.8584, 376.6316, 806.2074, 576.5170,\n",
       "                        564.4268, 263.1222, 282.2976, 267.2672, 229.6733, 240.5640, 214.5345,\n",
       "                        267.0035, 231.0332, 188.3853, 209.0527, 203.7384, 194.2435, 333.4554]),\n",
       "                'labels': tensor([474., 449., 488., 539., 569., 535., 740., 520., 256., 247., 264., 235.,\n",
       "                        248., 219., 260., 232., 157., 296., 160., 196., 166.])}]},\n",
       "             'NCA': {'8': []}})"
      ]
     },
     "execution_count": 4,
     "metadata": {},
     "output_type": "execute_result"
    }
   ],
   "source": [
    "preds"
   ]
  },
  {
   "cell_type": "code",
   "execution_count": 5,
   "metadata": {},
   "outputs": [
    {
     "ename": "KeyError",
     "evalue": "'intercd_preds'",
     "output_type": "error",
     "traceback": [
      "\u001b[0;31m---------------------------------------------------------------------------\u001b[0m",
      "\u001b[0;31mKeyError\u001b[0m                                  Traceback (most recent call last)",
      "Cell \u001b[0;32mIn[5], line 1\u001b[0m\n\u001b[0;32m----> 1\u001b[0m mape(\u001b[43mpreds\u001b[49m\u001b[43m[\u001b[49m\u001b[38;5;124;43m'\u001b[39;49m\u001b[38;5;124;43mLCO\u001b[39;49m\u001b[38;5;124;43m'\u001b[39;49m\u001b[43m]\u001b[49m\u001b[43m[\u001b[49m\u001b[38;5;124;43m'\u001b[39;49m\u001b[38;5;124;43mintercd_preds\u001b[39;49m\u001b[38;5;124;43m'\u001b[39;49m\u001b[43m]\u001b[49m, preds[\u001b[38;5;124m'\u001b[39m\u001b[38;5;124mLCO\u001b[39m\u001b[38;5;124m'\u001b[39m][\u001b[38;5;124m'\u001b[39m\u001b[38;5;124mintracd_preds\u001b[39m\u001b[38;5;124m'\u001b[39m])\n",
      "\u001b[0;31mKeyError\u001b[0m: 'intercd_preds'"
     ]
    }
   ],
   "source": [
    "mape(preds['LCO']['16'][0]['intercd_preds'], preds['LCO']['16'][0]['labels'])\n",
    "mape(preds['LCO']['16'][0]['intracd_preds'], preds['LCO']['16'][0]['labels'])"
   ]
  },
  {
   "cell_type": "code",
   "execution_count": 3,
   "metadata": {},
   "outputs": [
    {
     "ename": "IndexError",
     "evalue": "list index out of range",
     "output_type": "error",
     "traceback": [
      "\u001b[0;31m---------------------------------------------------------------------------\u001b[0m",
      "\u001b[0;31mIndexError\u001b[0m                                Traceback (most recent call last)",
      "Cell \u001b[0;32mIn[3], line 16\u001b[0m\n\u001b[1;32m     10\u001b[0m scores \u001b[38;5;241m=\u001b[39m {\n\u001b[1;32m     11\u001b[0m     \u001b[38;5;124m'\u001b[39m\u001b[38;5;124mBatLiNet\u001b[39m\u001b[38;5;124m'\u001b[39m: [],\n\u001b[1;32m     12\u001b[0m     \u001b[38;5;124m'\u001b[39m\u001b[38;5;124mFinetune\u001b[39m\u001b[38;5;124m'\u001b[39m: [],\n\u001b[1;32m     13\u001b[0m     \u001b[38;5;124m'\u001b[39m\u001b[38;5;124mVanilla\u001b[39m\u001b[38;5;124m'\u001b[39m: []\n\u001b[1;32m     14\u001b[0m }\n\u001b[1;32m     15\u001b[0m \u001b[38;5;28;01mfor\u001b[39;00m seed \u001b[38;5;129;01min\u001b[39;00m \u001b[38;5;28mrange\u001b[39m(\u001b[38;5;241m8\u001b[39m):\n\u001b[0;32m---> 16\u001b[0m     seed_preds \u001b[38;5;241m=\u001b[39m \u001b[43mpreds\u001b[49m\u001b[43m[\u001b[49m\u001b[43mmaterial\u001b[49m\u001b[43m]\u001b[49m\u001b[43m[\u001b[49m\u001b[38;5;28;43mstr\u001b[39;49m\u001b[43m(\u001b[49m\u001b[43mcount\u001b[49m\u001b[43m)\u001b[49m\u001b[43m]\u001b[49m\u001b[43m[\u001b[49m\u001b[43mseed\u001b[49m\u001b[43m]\u001b[49m\n\u001b[1;32m     17\u001b[0m     \u001b[38;5;66;03m# scores['BatLiNet'].append(mape(\u001b[39;00m\n\u001b[1;32m     18\u001b[0m     \u001b[38;5;66;03m#     (seed_preds['intercd_preds'] + seed_preds['intracd_preds']) / 2,\u001b[39;00m\n\u001b[1;32m     19\u001b[0m     \u001b[38;5;66;03m#     seed_preds['labels']\u001b[39;00m\n\u001b[1;32m     20\u001b[0m     \u001b[38;5;66;03m# ))\u001b[39;00m\n\u001b[1;32m     21\u001b[0m     scores[\u001b[38;5;124m'\u001b[39m\u001b[38;5;124mBatLiNet\u001b[39m\u001b[38;5;124m'\u001b[39m]\u001b[38;5;241m.\u001b[39mappend(mape(seed_preds[\u001b[38;5;124m'\u001b[39m\u001b[38;5;124mintercd_preds\u001b[39m\u001b[38;5;124m'\u001b[39m], seed_preds[\u001b[38;5;124m'\u001b[39m\u001b[38;5;124mlabels\u001b[39m\u001b[38;5;124m'\u001b[39m]))\n",
      "\u001b[0;31mIndexError\u001b[0m: list index out of range"
     ]
    }
   ],
   "source": [
    "colors = ['#A9BED9', '#E3F0F6', '#E8A19D']\n",
    "train_counts = {\n",
    "    'LCO': [16],\n",
    "    # 'NMC': [1, 2, 4, 8, 16],\n",
    "    # 'NCA': [1, 2, 4, 8]\n",
    "}\n",
    "for material, counts in train_counts.items():\n",
    "    means, stds, mins, maxs = [], [], [], []\n",
    "    for count in counts:\n",
    "        scores = {\n",
    "            'BatLiNet': [],\n",
    "            'Finetune': [],\n",
    "            'Vanilla': []\n",
    "        }\n",
    "        for seed in range(8):\n",
    "            seed_preds = preds[material][str(count)][seed]\n",
    "            # scores['BatLiNet'].append(mape(\n",
    "            #     (seed_preds['intercd_preds'] + seed_preds['intracd_preds']) / 2,\n",
    "            #     seed_preds['labels']\n",
    "            # ))\n",
    "            scores['BatLiNet'].append(mape(seed_preds['intercd_preds'], seed_preds['labels']))\n",
    "            scores['Finetune'].append(mape(seed_preds['finetune_preds'], seed_preds['labels']))\n",
    "            scores['Vanilla'].append(mape(seed_preds['intracd_preds'], seed_preds['labels']))\n",
    "        means.append([np.mean(scores[key]) for key in ['Vanilla', 'Finetune', 'BatLiNet']])\n",
    "        stds.append([np.std(scores[key]) for key in ['Vanilla', 'Finetune', 'BatLiNet']])\n",
    "        mins.append([np.min(scores[key]) for key in ['Vanilla', 'Finetune', 'BatLiNet']])\n",
    "        maxs.append([np.max(scores[key]) for key in ['Vanilla', 'Finetune', 'BatLiNet']])\n",
    "    fig, ax = plt.subplots(1, 1, figsize=(6, 4))\n",
    "    x = np.arange(len(counts))\n",
    "    ax.bar(\n",
    "        x,\n",
    "        [i[0] for i in means],\n",
    "        width=0.2,\n",
    "        color=colors[0],\n",
    "        yerr=[i[0] for i in stds],\n",
    "        error_kw=dict(capsize=3, capthick=1, lw=1),\n",
    "        # error bar color is darker than grey\n",
    "        ecolor='black')\n",
    "    ax.bar(\n",
    "        x+0.2,\n",
    "        [i[1] for i in means],\n",
    "        width=0.2,\n",
    "        color=colors[1],\n",
    "        yerr=[i[1] for i in stds],\n",
    "        error_kw=dict(capsize=3, capthick=1, lw=1),\n",
    "        # error bar color is darker than grey\n",
    "        ecolor='black')\n",
    "    ax.bar(\n",
    "        x+0.4,\n",
    "        [i[2] for i in means],\n",
    "        width=0.2,\n",
    "        color=colors[2],\n",
    "        yerr=[i[2] for i in stds],\n",
    "        error_kw=dict(capsize=3, capthick=1, lw=1),\n",
    "        # error bar color is darker than grey\n",
    "        ecolor='black')\n",
    "    plt.ylim([0, 1.2])\n",
    "    plt.show()\n",
    "    # fig.savefig(\n",
    "    #     HOME / f'workspaces/transfer/{material}.svg',\n",
    "    #     bbox_inches='tight',\n",
    "    #     pad_inches=0.1\n",
    "    # )"
   ]
  }
 ],
 "metadata": {
  "kernelspec": {
   "display_name": "base",
   "language": "python",
   "name": "python3"
  },
  "language_info": {
   "codemirror_mode": {
    "name": "ipython",
    "version": 3
   },
   "file_extension": ".py",
   "mimetype": "text/x-python",
   "name": "python",
   "nbconvert_exporter": "python",
   "pygments_lexer": "ipython3",
   "version": "3.10.13"
  }
 },
 "nbformat": 4,
 "nbformat_minor": 2
}
