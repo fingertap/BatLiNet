{
 "cells": [
  {
   "cell_type": "code",
   "execution_count": 5,
   "metadata": {},
   "outputs": [],
   "source": [
    "import torch\n",
    "import pickle\n",
    "import numpy as np\n",
    "from pathlib import Path\n",
    "import matplotlib.pyplot as plt\n",
    "\n",
    "from collections import defaultdict\n",
    "\n",
    "HOME = Path('/pvc4/battery/nmi_configs')\n",
    "\n",
    "def mape(x, y):\n",
    "    return torch.mean((x - y).abs() / y)"
   ]
  },
  {
   "cell_type": "code",
   "execution_count": 17,
   "metadata": {},
   "outputs": [],
   "source": [
    "workspace =  HOME / 'workspaces/transfer'\n",
    "preds = defaultdict(dict)\n",
    "for path in workspace.glob('*'):\n",
    "    mat, count = path.name.split('_')\n",
    "    preds_ = []\n",
    "    for pred_file in path.glob('preds*.pkl'):\n",
    "        with open(pred_file, 'rb') as f:\n",
    "            pred = pickle.load(f)\n",
    "        preds_.append(pred)\n",
    "    preds[mat][count] = preds_\n"
   ]
  },
  {
   "cell_type": "code",
   "execution_count": 20,
   "metadata": {},
   "outputs": [
    {
     "data": {
      "image/png": "[encoded data removed]",
      "text/plain": [
       "<Figure size 600x400 with 1 Axes>"
      ]
     },
     "metadata": {},
     "output_type": "display_data"
    }
   ],
   "source": [
    "colors = ['#A9BED9', '#E3F0F6', '#E8A19D']\n",
    "train_counts = {\n",
    "    'LCO': [1, 2, 4, 8, 16],\n",
    "    # 'NMC': [1, 2, 4, 8, 16],\n",
    "    # 'NCA': [1, 2, 4, 8]\n",
    "}\n",
    "for material, counts in train_counts.items():\n",
    "    means, stds, mins, maxs = [], [], [], []\n",
    "    for count in counts:\n",
    "        scores = {\n",
    "            'BatLiNet': [],\n",
    "            'Finetune': [],\n",
    "            'Vanilla': []\n",
    "        }\n",
    "        for seed in range(8):\n",
    "            seed_preds = preds[material][str(count)][seed]\n",
    "            # scores['BatLiNet'].append(mape(\n",
    "            #     (seed_preds['intercd_preds'] + seed_preds['intracd_preds']) / 2,\n",
    "            #     seed_preds['labels']\n",
    "            # ))\n",
    "            scores['BatLiNet'].append(mape(seed_preds['intercd_preds'], seed_preds['labels']))\n",
    "            scores['Finetune'].append(mape(seed_preds['finetune_preds'], seed_preds['labels']))\n",
    "            scores['Vanilla'].append(mape(seed_preds['intracd_preds'], seed_preds['labels']))\n",
    "        means.append([np.mean(scores[key]) for key in ['Vanilla', 'Finetune', 'BatLiNet']])\n",
    "        stds.append([np.std(scores[key]) for key in ['Vanilla', 'Finetune', 'BatLiNet']])\n",
    "        mins.append([np.min(scores[key]) for key in ['Vanilla', 'Finetune', 'BatLiNet']])\n",
    "        maxs.append([np.max(scores[key]) for key in ['Vanilla', 'Finetune', 'BatLiNet']])\n",
    "    fig, ax = plt.subplots(1, 1, figsize=(6, 4))\n",
    "    x = np.arange(len(counts))\n",
    "    ax.bar(\n",
    "        x,\n",
    "        [i[0] for i in means],\n",
    "        width=0.2,\n",
    "        color=colors[0],\n",
    "        yerr=[i[0] for i in stds],\n",
    "        error_kw=dict(capsize=3, capthick=1, lw=1),\n",
    "        # error bar color is darker than grey\n",
    "        ecolor='black')\n",
    "    ax.bar(\n",
    "        x+0.2,\n",
    "        [i[1] for i in means],\n",
    "        width=0.2,\n",
    "        color=colors[1],\n",
    "        yerr=[i[1] for i in stds],\n",
    "        error_kw=dict(capsize=3, capthick=1, lw=1),\n",
    "        # error bar color is darker than grey\n",
    "        ecolor='black')\n",
    "    ax.bar(\n",
    "        x+0.4,\n",
    "        [i[2] for i in means],\n",
    "        width=0.2,\n",
    "        color=colors[2],\n",
    "        yerr=[i[2] for i in stds],\n",
    "        error_kw=dict(capsize=3, capthick=1, lw=1),\n",
    "        # error bar color is darker than grey\n",
    "        ecolor='black')\n",
    "    plt.ylim([0, 1.2])\n",
    "    plt.show()\n",
    "    # fig.savefig(\n",
    "    #     HOME / f'workspaces/transfer/{material}.svg',\n",
    "    #     bbox_inches='tight',\n",
    "    #     pad_inches=0.1\n",
    "    # )"
   ]
  }
 ],
 "metadata": {
  "kernelspec": {
   "display_name": "base",
   "language": "python",
   "name": "python3"
  },
  "language_info": {
   "codemirror_mode": {
    "name": "ipython",
    "version": 3
   },
   "file_extension": ".py",
   "mimetype": "text/x-python",
   "name": "python",
   "nbconvert_exporter": "python",
   "pygments_lexer": "ipython3",
   "version": "3.10.13"
  }
 },
 "nbformat": 4,
 "nbformat_minor": 2
}
