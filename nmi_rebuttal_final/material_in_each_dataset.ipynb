{
 "cells": [
  {
   "cell_type": "code",
   "execution_count": 1,
   "metadata": {},
   "outputs": [],
   "source": [
    "import sys\n",
    "from pathlib import Path\n",
    "HOME = Path.cwd().parent\n",
    "sys.path.append(str(HOME))\n",
    "\n",
    "import pandas as pd\n",
    "\n",
    "from tqdm import tqdm\n",
    "from pathlib import Path\n",
    "from collections import defaultdict\n",
    "\n",
    "from src.data import BatteryData"
   ]
  },
  {
   "cell_type": "code",
   "execution_count": 2,
   "metadata": {},
   "outputs": [
    {
     "name": "stderr",
     "output_type": "stream",
     "text": [
      "Processing MATR:  22%|██▏       | 40/180 [00:15<00:36,  3.82it/s]Exception ignored in: <bound method IPythonKernel._clean_thread_parent_frames of <ipykernel.ipkernel.IPythonKernel object at 0x7f09ce558a30>>\n",
      "Traceback (most recent call last):\n",
      "  File \"/opt/conda/lib/python3.10/site-packages/ipykernel/ipkernel.py\", line 775, in _clean_thread_parent_frames\n",
      "    def _clean_thread_parent_frames(\n",
      "KeyboardInterrupt: \n",
      "Processing MATR:  49%|████▉     | 89/180 [00:26<00:22,  4.02it/s]"
     ]
    }
   ],
   "source": [
    "\n",
    "DATA_HOME = Path('/workspace/battery/nmi_configs/data/processed')\n",
    "\n",
    "all_materials = set()\n",
    "ds_to_mat = {}\n",
    "\n",
    "for data_source_path in DATA_HOME.glob('*'):\n",
    "    datasource = data_source_path.stem\n",
    "    ds_to_mat[datasource] = defaultdict(int)\n",
    "    for battery in tqdm(list(data_source_path.glob('*.pkl')), desc=f'Processing {datasource}'):\n",
    "        cell_data = BatteryData.load(battery)\n",
    "        ds_to_mat[datasource][cell_data.cathode_material] += 1\n"
   ]
  },
  {
   "cell_type": "code",
   "execution_count": null,
   "metadata": {},
   "outputs": [],
   "source": [
    "ds_to_mat['HNEI'] = defaultdict(int)\n",
    "ds_to_mat['HNEI']['NMC-LCO'] = 14\n",
    "pd.DataFrame(ds_to_mat).fillna(0).astype(int).to_latex(\n",
    "    '/workspace/battery/nmi_configs/nmi_rebuttal_final/assets/material_stats.tex'\n",
    ")"
   ]
  },
  {
   "attachments": {},
   "cell_type": "markdown",
   "metadata": {},
   "source": [
    "Materials in organized datasets"
   ]
  },
  {
   "cell_type": "code",
   "execution_count": 1,
   "metadata": {},
   "outputs": [],
   "source": [
    "import sys\n",
    "import copy\n",
    "import pickle\n",
    "import numpy as np\n",
    "import pandas as pd\n",
    "\n",
    "from tqdm import tqdm\n",
    "from pathlib import Path\n",
    "from itertools import chain\n",
    "from collections import defaultdict\n",
    "from IPython.display import display\n",
    "\n",
    "sys.path.append(str(Path.cwd().parent))\n",
    "from src.data import DataBundle, BatteryData\n",
    "from src.builders import TRAIN_TEST_SPLITTERS\n",
    "from src.utils.config import import_config\n",
    "\n",
    "HOME = Path.cwd().parent"
   ]
  },
  {
   "cell_type": "code",
   "execution_count": 2,
   "metadata": {},
   "outputs": [
    {
     "name": "stdout",
     "output_type": "stream",
     "text": [
      "/workspace/battery/nmi_configs\n"
     ]
    },
    {
     "name": "stderr",
     "output_type": "stream",
     "text": [
      "Loading train cells for MATR-1: 100%|██████████| 41/41 [00:13<00:00,  3.00it/s]\n",
      "Loading test cells for MATR-1: 100%|██████████| 42/42 [00:17<00:00,  2.41it/s]\n",
      "Loading train cells for MATR-2: 100%|██████████| 41/41 [00:15<00:00,  2.61it/s]\n",
      "Loading test cells for MATR-2: 100%|██████████| 40/40 [00:19<00:00,  2.05it/s]\n",
      "Loading train cells for MIX-20: 100%|██████████| 256/256 [01:37<00:00,  2.62it/s]\n",
      "Loading test cells for MIX-20: 100%|██████████| 147/147 [01:06<00:00,  2.21it/s]\n",
      "Loading train cells for MIX-100: 100%|██████████| 205/205 [01:51<00:00,  1.84it/s]\n",
      "Loading test cells for MIX-100: 100%|██████████| 137/137 [01:39<00:00,  1.38it/s]\n",
      "Loading train cells for HUST: 100%|██████████| 55/55 [00:16<00:00,  3.40it/s]\n",
      "Loading test cells for HUST: 100%|██████████| 22/22 [00:07<00:00,  3.11it/s]\n"
     ]
    }
   ],
   "source": [
    "%cd $HOME\n",
    "dataset_folders = HOME / 'workspaces/baselines/sklearn/discharge_model/'\n",
    "\n",
    "data_name_map = {\n",
    "    'matr_1': 'MATR-1',\n",
    "    'matr_2': 'MATR-2',\n",
    "    'hust': 'HUST',\n",
    "    'mix_20': 'MIX-20',\n",
    "    'mix_100': 'MIX-100',\n",
    "}\n",
    "\n",
    "dataset_materials = {data: defaultdict(int) for data in data_name_map}\n",
    "\n",
    "for dataset_folder in dataset_folders.glob('*'):\n",
    "    dataset = data_name_map[dataset_folder.stem]\n",
    "    config_file = next(dataset_folder.glob('config*.yaml'))\n",
    "    config = import_config(config_file, ['train_test_split'])['train_test_split']\n",
    "    train_cell_files, test_cell_files = TRAIN_TEST_SPLITTERS.build(config).split()\n",
    "\n",
    "    train_cells = [\n",
    "        BatteryData.load(c) for c in tqdm(\n",
    "            train_cell_files, desc=f'Loading train cells for {dataset}'\n",
    "        )\n",
    "    ]\n",
    "    test_cells = [\n",
    "        BatteryData.load(c) for c in tqdm(\n",
    "            test_cell_files, desc=f'Loading test cells for {dataset}'\n",
    "        )\n",
    "    ]\n",
    "    for cell in chain(train_cells, test_cells):\n",
    "        if 'HNEI' in cell.cell_id:\n",
    "            cell.cathode_material = 'NMC-LCO'\n",
    "        dataset_materials[dataset_folder.stem][cell.cathode_material] += 1"
   ]
  },
  {
   "cell_type": "code",
   "execution_count": 5,
   "metadata": {},
   "outputs": [
    {
     "data": {
      "text/html": [
       "<div>\n",
       "<style scoped>\n",
       "    .dataframe tbody tr th:only-of-type {\n",
       "        vertical-align: middle;\n",
       "    }\n",
       "\n",
       "    .dataframe tbody tr th {\n",
       "        vertical-align: top;\n",
       "    }\n",
       "\n",
       "    .dataframe thead th {\n",
       "        text-align: right;\n",
       "    }\n",
       "</style>\n",
       "<table border=\"1\" class=\"dataframe\">\n",
       "  <thead>\n",
       "    <tr style=\"text-align: right;\">\n",
       "      <th></th>\n",
       "      <th>MATR-1</th>\n",
       "      <th>MATR-2</th>\n",
       "      <th>HUST</th>\n",
       "      <th>MIX-20</th>\n",
       "      <th>MIX-100</th>\n",
       "    </tr>\n",
       "  </thead>\n",
       "  <tbody>\n",
       "    <tr>\n",
       "      <th>LFP</th>\n",
       "      <td>83</td>\n",
       "      <td>81</td>\n",
       "      <td>77</td>\n",
       "      <td>275</td>\n",
       "      <td>257</td>\n",
       "    </tr>\n",
       "    <tr>\n",
       "      <th>LCO</th>\n",
       "      <td>0</td>\n",
       "      <td>0</td>\n",
       "      <td>0</td>\n",
       "      <td>23</td>\n",
       "      <td>23</td>\n",
       "    </tr>\n",
       "    <tr>\n",
       "      <th>NMC</th>\n",
       "      <td>0</td>\n",
       "      <td>0</td>\n",
       "      <td>0</td>\n",
       "      <td>69</td>\n",
       "      <td>48</td>\n",
       "    </tr>\n",
       "    <tr>\n",
       "      <th>NCA</th>\n",
       "      <td>0</td>\n",
       "      <td>0</td>\n",
       "      <td>0</td>\n",
       "      <td>22</td>\n",
       "      <td>0</td>\n",
       "    </tr>\n",
       "    <tr>\n",
       "      <th>NMC-LCO</th>\n",
       "      <td>0</td>\n",
       "      <td>0</td>\n",
       "      <td>0</td>\n",
       "      <td>14</td>\n",
       "      <td>14</td>\n",
       "    </tr>\n",
       "  </tbody>\n",
       "</table>\n",
       "</div>"
      ],
      "text/plain": [
       "         MATR-1  MATR-2  HUST  MIX-20  MIX-100\n",
       "LFP          83      81    77     275      257\n",
       "LCO           0       0     0      23       23\n",
       "NMC           0       0     0      69       48\n",
       "NCA           0       0     0      22        0\n",
       "NMC-LCO       0       0     0      14       14"
      ]
     },
     "execution_count": 5,
     "metadata": {},
     "output_type": "execute_result"
    }
   ],
   "source": [
    "df = pd.DataFrame(dataset_materials).fillna(0).astype(int)\n",
    "df.columns = list(data_name_map.values())\n",
    "df[['MATR-1', 'MATR-2', 'HUST', 'MIX-20', 'MIX-100']]"
   ]
  }
 ],
 "metadata": {
  "kernelspec": {
   "display_name": "base",
   "language": "python",
   "name": "python3"
  },
  "language_info": {
   "codemirror_mode": {
    "name": "ipython",
    "version": 3
   },
   "file_extension": ".py",
   "mimetype": "text/x-python",
   "name": "python",
   "nbconvert_exporter": "python",
   "pygments_lexer": "ipython3",
   "version": "3.10.13"
  }
 },
 "nbformat": 4,
 "nbformat_minor": 2
}
