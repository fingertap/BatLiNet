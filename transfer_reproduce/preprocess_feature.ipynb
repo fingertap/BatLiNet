{
 "cells": [
  {
   "cell_type": "code",
   "execution_count": 1,
   "metadata": {},
   "outputs": [],
   "source": [
    "import sys\n",
    "import pickle\n",
    "\n",
    "from tqdm import tqdm\n",
    "from pathlib import Path\n",
    "from collections import defaultdict\n",
    "\n",
    "HOME = Path.cwd().parent\n",
    "sys.path.append(str(HOME))\n",
    "\n",
    "from src.data import BatteryData\n",
    "from src.label import RULLabelAnnotator\n",
    "from src.feature import BatLiNetFeatureExtractor as FeatureExtractor\n"
   ]
  },
  {
   "cell_type": "code",
   "execution_count": 2,
   "metadata": {},
   "outputs": [
    {
     "name": "stderr",
     "output_type": "stream",
     "text": [
      "Loading from data source MATR: 100%|██████████| 180/180 [01:18<00:00,  2.29it/s]\n",
      "Loading from data source HUST: 100%|██████████| 77/77 [00:55<00:00,  1.38it/s]\n",
      "Loading from data source CALCE: 100%|██████████| 13/13 [00:01<00:00, 10.35it/s]\n",
      "Loading from data source HNEI: 100%|██████████| 14/14 [00:02<00:00,  5.78it/s]\n",
      "Loading from data source RWTH: 100%|██████████| 48/48 [00:30<00:00,  1.57it/s]\n",
      "Loading from data source SNL: 100%|██████████| 61/61 [00:23<00:00,  2.55it/s]\n",
      "Loading from data source UL_PUR: 100%|██████████| 10/10 [00:00<00:00, 57.25it/s]\n"
     ]
    }
   ],
   "source": [
    "data_path = HOME / 'data/processed'\n",
    "datasources = ['MATR', 'HUST', 'CALCE', 'HNEI', 'RWTH', 'SNL', 'UL_PUR']\n",
    "batteries = [\n",
    "    BatteryData.load(x) for ds in datasources\n",
    "    for x in tqdm(\n",
    "        list((data_path / ds).glob('*.pkl')),\n",
    "        desc=f'Loading from data source {ds}')\n",
    "]"
   ]
  },
  {
   "cell_type": "code",
   "execution_count": 3,
   "metadata": {},
   "outputs": [
    {
     "name": "stderr",
     "output_type": "stream",
     "text": [
      "Processing features and labels: 100%|██████████| 403/403 [00:27<00:00, 14.80it/s]"
     ]
    },
    {
     "name": "stdout",
     "output_type": "stream",
     "text": [
      "LFP 275 cells\n",
      "LCO 37 cells\n",
      "NMC 69 cells\n",
      "NCA 22 cells\n"
     ]
    },
    {
     "name": "stderr",
     "output_type": "stream",
     "text": [
      "\n"
     ]
    }
   ],
   "source": [
    "mat2bat = defaultdict(list)\n",
    "labeler = RULLabelAnnotator()\n",
    "feat_extractor = FeatureExtractor(smooth_features=False)\n",
    "for bat in tqdm(batteries, desc='Processing features and labels'):\n",
    "    label = labeler.process_cell(bat)\n",
    "    if label.isnan():\n",
    "        continue\n",
    "    bat.label = label\n",
    "    bat.feature = feat_extractor.process_cell(bat)\n",
    "    mat2bat[bat.cathode_material].append(bat)\n",
    "\n",
    "for mat in mat2bat:\n",
    "    print(mat, len(mat2bat[mat]), 'cells')"
   ]
  },
  {
   "cell_type": "code",
   "execution_count": 5,
   "metadata": {},
   "outputs": [],
   "source": [
    "for bat in mat2bat.values():\n",
    "    for battery in bat:\n",
    "        battery.cycle_data = None"
   ]
  },
  {
   "cell_type": "code",
   "execution_count": 6,
   "metadata": {},
   "outputs": [],
   "source": [
    "target = HOME / 'cache/transfer.pkl'\n",
    "target.parent.mkdir(exist_ok=True)\n",
    "with open(target, 'wb') as f:\n",
    "    pickle.dump(mat2bat, f)"
   ]
  },
  {
   "cell_type": "code",
   "execution_count": 4,
   "metadata": {},
   "outputs": [],
   "source": [
    "# Try to load back\n",
    "with open(HOME / 'cache/transfer.pkl', 'rb') as f:\n",
    "    mat2bat = pickle.load(f)"
   ]
  }
 ],
 "metadata": {
  "kernelspec": {
   "display_name": "base",
   "language": "python",
   "name": "python3"
  },
  "language_info": {
   "codemirror_mode": {
    "name": "ipython",
    "version": 3
   },
   "file_extension": ".py",
   "mimetype": "text/x-python",
   "name": "python",
   "nbconvert_exporter": "python",
   "pygments_lexer": "ipython3",
   "version": "3.10.13"
  }
 },
 "nbformat": 4,
 "nbformat_minor": 2
}
