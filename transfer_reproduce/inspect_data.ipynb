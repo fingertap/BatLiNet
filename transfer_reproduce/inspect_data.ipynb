{
 "cells": [
  {
   "cell_type": "code",
   "execution_count": 6,
   "metadata": {},
   "outputs": [],
   "source": [
    "import sys\n",
    "import pickle\n",
    "import matplotlib.pyplot as plt\n",
    "\n",
    "from pathlib import Path\n",
    "\n",
    "HOME = Path.cwd().parent\n",
    "sys.path.append(str(HOME))"
   ]
  },
  {
   "cell_type": "code",
   "execution_count": 7,
   "metadata": {},
   "outputs": [],
   "source": [
    "with open(HOME / 'cache/transfer.pkl', 'rb') as f:\n",
    "    mat2bat = pickle.load(f)"
   ]
  },
  {
   "cell_type": "code",
   "execution_count": null,
   "metadata": {},
   "outputs": [],
   "source": [
    "class Dataset:\n",
    "    def __init__(self, feature, label):\n",
    "        pass\n",
    "\n",
    "    def __len__(self):\n",
    "        pass\n",
    "\n",
    "    def __getitem__(self):\n",
    "        pass\n",
    "\n",
    "    def __iter__(self):\n",
    "        pass"
   ]
  },
  {
   "cell_type": "code",
   "execution_count": 8,
   "metadata": {},
   "outputs": [
    {
     "data": {
      "text/plain": [
       "torch.Size([6, 100, 1000])"
      ]
     },
     "execution_count": 8,
     "metadata": {},
     "output_type": "execute_result"
    }
   ],
   "source": [
    "mat2bat['LFP'][0].feature.shape"
   ]
  },
  {
   "cell_type": "code",
   "execution_count": 9,
   "metadata": {},
   "outputs": [
    {
     "name": "stdout",
     "output_type": "stream",
     "text": [
      "tensor(4052) tensor(148)\n"
     ]
    }
   ],
   "source": [
    "labels = [cell.label for cell in mat2bat['LFP']]\n",
    "\n",
    "print(max(labels), min(labels)) "
   ]
  },
  {
   "cell_type": "code",
   "execution_count": 10,
   "metadata": {},
   "outputs": [
    {
     "name": "stdout",
     "output_type": "stream",
     "text": [
      "[tensor(148), tensor(300), tensor(335), tensor(429), tensor(429), tensor(438), tensor(443), tensor(444), tensor(454), tensor(457), tensor(458), tensor(459), tensor(461), tensor(461), tensor(462), tensor(463), tensor(465), tensor(466), tensor(468), tensor(471), tensor(477), tensor(477), tensor(478), tensor(480), tensor(481), tensor(483), tensor(485), tensor(487), tensor(487), tensor(489), tensor(492), tensor(494), tensor(495), tensor(498), tensor(499), tensor(499), tensor(501), tensor(502), tensor(506), tensor(509), tensor(511), tensor(513), tensor(519), tensor(520), tensor(527), tensor(530), tensor(534), tensor(535), tensor(541), tensor(559), tensor(560), tensor(561), tensor(599), tensor(600), tensor(608), tensor(616), tensor(616), tensor(617), tensor(625), tensor(636), tensor(648), tensor(651), tensor(657), tensor(667), tensor(672), tensor(676), tensor(678), tensor(691), tensor(702), tensor(703), tensor(704), tensor(707), tensor(709), tensor(713), tensor(719), tensor(731), tensor(731), tensor(739), tensor(742), tensor(743), tensor(748), tensor(751), tensor(755), tensor(757), tensor(761), tensor(772), tensor(772), tensor(774), tensor(775), tensor(778), tensor(786), tensor(788), tensor(788), tensor(796), tensor(813), tensor(816), tensor(817), tensor(819), tensor(825), tensor(828), tensor(828), tensor(828), tensor(829), tensor(837), tensor(842), tensor(850), tensor(854), tensor(857), tensor(857), tensor(858), tensor(858), tensor(860), tensor(862), tensor(864), tensor(864), tensor(870), tensor(870), tensor(872), tensor(873), tensor(876), tensor(876), tensor(879), tensor(880), tensor(888), tensor(891), tensor(892), tensor(897), tensor(902), tensor(906), tensor(907), tensor(910), tensor(914), tensor(917), tensor(923), tensor(932), tensor(935), tensor(940), tensor(943), tensor(966), tensor(989), tensor(989), tensor(992), tensor(1002), tensor(1009), tensor(1014), tensor(1017), tensor(1028), tensor(1039), tensor(1039), tensor(1046), tensor(1048), tensor(1051), tensor(1054), tensor(1056), tensor(1063), tensor(1074), tensor(1078), tensor(1082), tensor(1093), tensor(1115), tensor(1144), tensor(1145), tensor(1146), tensor(1155), tensor(1156), tensor(1158), tensor(1267), tensor(1284), tensor(1297), tensor(1310), tensor(1315), tensor(1350), tensor(1382), tensor(1388), tensor(1390), tensor(1395), tensor(1402), tensor(1421), tensor(1434), tensor(1450), tensor(1483), tensor(1493), tensor(1501), tensor(1502), tensor(1506), tensor(1563), tensor(1574), tensor(1585), tensor(1611), tensor(1638), tensor(1642), tensor(1651), tensor(1680), tensor(1681), tensor(1687), tensor(1692), tensor(1699), tensor(1704), tensor(1708), tensor(1709), tensor(1719), tensor(1744), tensor(1753), tensor(1768), tensor(1784), tensor(1785), tensor(1801), tensor(1806), tensor(1813), tensor(1836), tensor(1850), tensor(1852), tensor(1860), tensor(1875), tensor(1887), tensor(1907), tensor(1910), tensor(1928), tensor(1935), tensor(1940), tensor(1940), tensor(1964), tensor(1973), tensor(1977), tensor(2014), tensor(2032), tensor(2032), tensor(2043), tensor(2049), tensor(2059), tensor(2145), tensor(2160), tensor(2170), tensor(2180), tensor(2190), tensor(2204), tensor(2218), tensor(2219), tensor(2237), tensor(2238), tensor(2285), tensor(2287), tensor(2287), tensor(2292), tensor(2310), tensor(2326), tensor(2344), tensor(2367), tensor(2452), tensor(2462), tensor(2470), tensor(2481), tensor(2493), tensor(2509), tensor(2623), tensor(2652), tensor(2653), tensor(2659), tensor(2680), tensor(2691), tensor(2903), tensor(3040), tensor(3040), tensor(3052), tensor(3140), tensor(3158), tensor(3163), tensor(3198), tensor(3344), tensor(3546), tensor(3547), tensor(3756), tensor(3800), tensor(3825), tensor(4052)]\n"
     ]
    }
   ],
   "source": [
    "print(sorted(labels))"
   ]
  }
 ],
 "metadata": {
  "kernelspec": {
   "display_name": "base",
   "language": "python",
   "name": "python3"
  },
  "language_info": {
   "codemirror_mode": {
    "name": "ipython",
    "version": 3
   },
   "file_extension": ".py",
   "mimetype": "text/x-python",
   "name": "python",
   "nbconvert_exporter": "python",
   "pygments_lexer": "ipython3",
   "version": "3.10.13"
  }
 },
 "nbformat": 4,
 "nbformat_minor": 2
}
