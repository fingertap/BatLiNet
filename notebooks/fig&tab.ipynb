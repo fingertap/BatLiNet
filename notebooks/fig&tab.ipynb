{
 "cells": [
  {
   "cell_type": "code",
   "execution_count": 1,
   "metadata": {},
   "outputs": [
    {
     "data": {
      "image/png": "[encoded data removed]",
      "text/plain": [
       "<Figure size 900x50 with 9 Axes>"
      ]
     },
     "metadata": {},
     "output_type": "display_data"
    }
   ],
   "source": [
    "import re\n",
    "import sys\n",
    "import torch\n",
    "import pickle\n",
    "import matplotlib\n",
    "import numpy as np\n",
    "import pandas as pd\n",
    "import matplotlib.pyplot as plt\n",
    "\n",
    "# plt.rcParams['font.family'] = 'arial' \n",
    "plt.rcParams['font.weight'] = 'normal' \n",
    "plt.rcParams['font.size'] = 14\n",
    "\n",
    "from tqdm.notebook import tqdm\n",
    "from dataclasses import dataclass\n",
    "from pathlib import Path\n",
    "from scipy.interpolate import interp1d\n",
    "from collections import defaultdict\n",
    "from matplotlib.patches import FancyBboxPatch\n",
    "from mpl_toolkits.axisartist.axislines import AxesZero\n",
    "\n",
    "# Add the parent folder, i.e. project root, to path\n",
    "sys.path.append(str(Path.cwd().parent))\n",
    "\n",
    "from src.data import BatteryData\n",
    "from src.builders import MODELS\n",
    "from src.utils import import_config\n",
    "\n",
    "pd.options.display.precision = 1\n",
    "palette = [\n",
    "    '#0074D9',  # blue\n",
    "    '#FF851B',  # orange\n",
    "    '#2ECC40',  # green\n",
    "    '#B10DC9',  # purple\n",
    "    '#FFDC00',  # yellow\n",
    "    '#FF4136',  # red\n",
    "    '#39CCCC',  # teal\n",
    "    '#FF80CC',  # pink\n",
    "    '#AAAAAA',  # gray\n",
    "]\n",
    "# Show palette\n",
    "fig, axes = plt.subplots(1, len(palette), figsize=(len(palette), 0.5))\n",
    "for color, ax in zip(palette, axes):\n",
    "    ax.set_facecolor(color)\n",
    "    ax.set_title(color, fontsize=10)\n",
    "    ax.set_xticks([])\n",
    "    ax.set_yticks([])\n",
    "fig.suptitle('Color-blind Friendly Palette', y=1.8)\n",
    "plt.subplots_adjust(wspace=1, hspace=1)\n",
    "plt.show()"
   ]
  },
  {
   "cell_type": "code",
   "execution_count": 2,
   "metadata": {},
   "outputs": [],
   "source": [
    "@dataclass\n",
    "class ColorSeries:\n",
    "    main: str\n",
    "    darker: list[str] = None\n",
    "    lighter: list[str] = None\n",
    "\n",
    "    def __post_init__(self):\n",
    "        self.darker = self.darker or []\n",
    "        self.lighter = self.lighter or []\n",
    "\n",
    "    def plot(self, ax):\n",
    "        colors = self.darker[::-1] + [self.main] + self.lighter\n",
    "        for i, color in enumerate(colors):\n",
    "            ax.add_patch(plt.Rectangle((i*50, 0), 50, 50, facecolor=color)) \n",
    "            ax.text(i*50 + 25, 25, color, ha='center', va='center')\n",
    "        ax.set_xlim(0, len(colors)*50)\n",
    "        ax.set_ylim(0, 50)\n",
    "        ax.axis('off')\n",
    "\n",
    "\n",
    "palette = [\n",
    "    # Blues\n",
    "    ColorSeries('#0074D6', ['#0C4CED', '#0B10E3'], ['#0CC3ED', '#0BE3D1']),\n",
    "    # Orange\n",
    "    ColorSeries('#FF851B', ['#FFB80F', '#FF390F'], ['#E8920E', '#FFB80F']),\n",
    "    # Green\n",
    "]"
   ]
  },
  {
   "cell_type": "code",
   "execution_count": 3,
   "metadata": {},
   "outputs": [
    {
     "data": {
      "application/vnd.jupyter.widget-view+json": {
       "model_id": "99046f6e5b674500b410f1c722ea632c",
       "version_major": 2,
       "version_minor": 0
      },
      "text/plain": [
       "  0%|          | 0/403 [00:00<?, ?it/s]"
      ]
     },
     "metadata": {},
     "output_type": "display_data"
    }
   ],
   "source": [
    "path = Path('../data/processed/').glob('*/*')\n",
    "all_batteries = [BatteryData.load(p) for p in tqdm(list(path))]"
   ]
  },
  {
   "cell_type": "code",
   "execution_count": 5,
   "metadata": {},
   "outputs": [],
   "source": [
    "import torch\n",
    "import pickle\n",
    "\n",
    "\n",
    "with torch.device('cpu'):\n",
    "    with open('../workspaces/predictions_20230719064753.pkl', 'rb') as f:\n",
    "        mix20_pred = pickle.load(f)\n",
    "    \n",
    "    with open('../workspaces/predictions_20230817093054_0.pkl', 'rb') as f:\n",
    "        mix100_pred = pickle.load(f)"
   ]
  },
  {
   "cell_type": "code",
   "execution_count": 6,
   "metadata": {},
   "outputs": [],
   "source": [
    "from src.feature import BatLiNetFeatureExtractor\n",
    "\n",
    "mix20_fe = BatLiNetFeatureExtractor(\n",
    "    smooth_features=False,\n",
    "    max_cycle_index=19,\n",
    "    cycle_to_drop=10\n",
    ")\n",
    "mix100_fe = BatLiNetFeatureExtractor(smooth_features=False)"
   ]
  },
  {
   "cell_type": "code",
   "execution_count": 20,
   "metadata": {},
   "outputs": [
    {
     "data": {
      "application/vnd.jupyter.widget-view+json": {
       "model_id": "ef4f9269a18c41ba851182b3cf382762",
       "version_major": 2,
       "version_minor": 0
      },
      "text/plain": [
       "  0%|          | 0/403 [00:00<?, ?it/s]"
      ]
     },
     "metadata": {},
     "output_type": "display_data"
    },
    {
     "data": {
      "application/vnd.jupyter.widget-view+json": {
       "model_id": "c5cb75d5f1e846eab39b1863af4d58a2",
       "version_major": 2,
       "version_minor": 0
      },
      "text/plain": [
       "  0%|          | 0/403 [00:00<?, ?it/s]"
      ]
     },
     "metadata": {},
     "output_type": "display_data"
    }
   ],
   "source": [
    "all_mix100_feats = torch.stack([\n",
    "    mix100_fe.process_cell(cell) for cell in tqdm(all_batteries)\n",
    "])\n",
    "all_mix20_feats = torch.stack([\n",
    "    mix20_fe.process_cell(cell) for cell in tqdm(all_batteries)\n",
    "])"
   ]
  },
  {
   "cell_type": "code",
   "execution_count": 1,
   "metadata": {},
   "outputs": [
    {
     "ename": "NameError",
     "evalue": "name 'mix100_pred' is not defined",
     "output_type": "error",
     "traceback": [
      "\u001b[0;31m---------------------------------------------------------------------------\u001b[0m",
      "\u001b[0;31mNameError\u001b[0m                                 Traceback (most recent call last)",
      "Cell \u001b[0;32mIn[1], line 1\u001b[0m\n\u001b[0;32m----> 1\u001b[0m cache_mix100_labels \u001b[39m=\u001b[39m mix100_pred[\u001b[39m'\u001b[39m\u001b[39mdata\u001b[39m\u001b[39m'\u001b[39m]\u001b[39m.\u001b[39mtrain_data\u001b[39m.\u001b[39mfeature\n\u001b[1;32m      2\u001b[0m cache_mix20_labels \u001b[39m=\u001b[39m mix20_pred[\u001b[39m'\u001b[39m\u001b[39mdata\u001b[39m\u001b[39m'\u001b[39m]\u001b[39m.\u001b[39mtest_data\u001b[39m.\u001b[39mfeature\n",
      "\u001b[0;31mNameError\u001b[0m: name 'mix100_pred' is not defined"
     ]
    }
   ],
   "source": [
    "cache_mix100_labels = mix100_pred['data'].train_data.feature\n",
    "cache_mix20_labels = mix20_pred['data'].test_data.feature"
   ]
  },
  {
   "cell_type": "code",
   "execution_count": 32,
   "metadata": {},
   "outputs": [
    {
     "data": {
      "application/vnd.jupyter.widget-view+json": {
       "model_id": "31c816689030443693be0818d2cbd787",
       "version_major": 2,
       "version_minor": 0
      },
      "text/plain": [
       "  0%|          | 0/137 [00:00<?, ?it/s]"
      ]
     },
     "metadata": {},
     "output_type": "display_data"
    }
   ],
   "source": [
    "matched_cells = []\n",
    "for cache_feat in tqdm(cache_mix100_labels):\n",
    "    N = len(all_mix100_feats)\n",
    "    match = (all_mix100_feats.view(N, -1) - cache_feat.view(-1)[None]).abs().mean(-1).argmin()\n",
    "    matched_cells.append(all_batteries[match])"
   ]
  },
  {
   "cell_type": "code",
   "execution_count": 33,
   "metadata": {},
   "outputs": [
    {
     "name": "stdout",
     "output_type": "stream",
     "text": [
      "    \"HUST_1-1\",\n",
      "    \"MATR_b3c42\",\n",
      "    \"RWTH_011\",\n",
      "    \"RWTH_032\",\n",
      "    \"MATR_b2c27\",\n",
      "    \"MATR_b1c4\",\n",
      "    \"MATR_b4c15\",\n",
      "    \"RWTH_040\",\n",
      "    \"MATR_b1c16\",\n",
      "    \"HUST_1-8\",\n",
      "    \"RWTH_015\",\n",
      "    \"MATR_b3c34\",\n",
      "    \"MATR_b4c38\",\n",
      "    \"UL-PUR_N10-NA7_18650_NCA_23C_0-100_0.5-0.5C_g\",\n",
      "    \"MATR_b3c25\",\n",
      "    \"CALCE_CS2_35\",\n",
      "    \"UL-PUR_N20-EX2_18650_NCA_23C_0-100_0.5-0.5C_b\",\n",
      "    \"HUST_5-1\",\n",
      "    \"MATR_b3c26\",\n",
      "    \"MATR_b1c26\",\n",
      "    \"HUST_4-4\",\n",
      "    \"MATR_b4c4\",\n",
      "    \"HUST_8-4\",\n",
      "    \"RWTH_030\",\n",
      "    \"MATR_b3c14\",\n",
      "    \"HNEI_18650_NMC_LCO_25C_0-100_0.5-1.5C_e\",\n",
      "    \"RWTH_003\",\n",
      "    \"MATR_b2c26\",\n",
      "    \"MATR_b1c45\",\n",
      "    \"MATR_b1c40\",\n",
      "    \"MATR_b4c19\",\n",
      "    \"HUST_3-6\",\n",
      "    \"MATR_b3c24\",\n",
      "    \"MATR_b2c12\",\n",
      "    \"MATR_b3c17\",\n",
      "    \"HUST_5-2\",\n",
      "    \"MATR_b1c32\",\n",
      "    \"MATR_b2c30\",\n",
      "    \"MATR_b2c11\",\n",
      "    \"MATR_b1c15\",\n",
      "    \"HUST_7-5\",\n",
      "    \"HUST_2-6\",\n",
      "    \"MATR_b3c35\",\n",
      "    \"RWTH_036\",\n",
      "    \"HUST_10-8\",\n",
      "    \"MATR_b4c41\",\n",
      "    \"UL-PUR_N10-OV8_18650_NCA_23C_0-100_0.5-0.5C_h\",\n",
      "    \"MATR_b4c22\",\n",
      "    \"MATR_b1c42\",\n",
      "    \"MATR_b2c43\",\n",
      "    \"MATR_b1c19\",\n",
      "    \"HUST_1-4\",\n",
      "    \"RWTH_048\",\n",
      "    \"HNEI_18650_NMC_LCO_25C_0-100_0.5-1.5C_a\",\n",
      "    \"UL-PUR_N15-OV3_18650_NCA_23C_0-100_0.5-0.5C_c\",\n",
      "    \"RWTH_045\",\n",
      "    \"RWTH_028\",\n",
      "    \"MATR_b2c23\",\n",
      "    \"HUST_3-4\",\n",
      "    \"RWTH_034\",\n",
      "    \"MATR_b2c34\",\n",
      "    \"MATR_b3c16\",\n",
      "    \"MATR_b2c33\",\n",
      "    \"MATR_b1c35\",\n",
      "    \"MATR_b3c15\",\n",
      "    \"MATR_b3c33\",\n",
      "    \"HUST_8-7\",\n",
      "    \"HUST_10-2\",\n",
      "    \"MATR_b4c33\",\n",
      "    \"MATR_b1c31\",\n",
      "    \"HUST_4-2\",\n",
      "    \"HUST_8-6\",\n",
      "    \"UL-PUR_N20-NA6_18650_NCA_23C_0-100_0.5-0.5C_f\",\n",
      "    \"MATR_b1c7\",\n",
      "    \"MATR_b3c11\",\n",
      "    \"RWTH_012\",\n",
      "    \"MATR_b3c10\",\n",
      "    \"MATR_b4c16\",\n",
      "    \"MATR_b3c41\",\n",
      "    \"RWTH_027\",\n",
      "    \"RWTH_005\",\n",
      "    \"MATR_b4c43\",\n",
      "    \"HUST_6-2\",\n",
      "    \"HNEI_18650_NMC_LCO_25C_0-100_0.5-1.5C_l\",\n",
      "    \"MATR_b3c12\",\n",
      "    \"MATR_b2c1\",\n",
      "    \"HUST_4-6\",\n",
      "    \"MATR_b3c21\",\n",
      "    \"RWTH_039\",\n",
      "    \"MATR_b4c26\",\n",
      "    \"MATR_b3c2\",\n",
      "    \"MATR_b4c8\",\n",
      "    \"MATR_b3c22\",\n",
      "    \"CALCE_CX2_34\",\n",
      "    \"MATR_b1c5\",\n",
      "    \"RWTH_019\",\n",
      "    \"CALCE_CX2_36\",\n",
      "    \"HUST_6-6\",\n",
      "    \"RWTH_037\",\n",
      "    \"MATR_b4c20\",\n",
      "    \"HUST_10-1\",\n",
      "    \"MATR_b4c29\",\n",
      "    \"HUST_9-4\",\n",
      "    \"HUST_8-1\",\n",
      "    \"MATR_b4c7\",\n",
      "    \"MATR_b3c32\",\n",
      "    \"MATR_b4c0\",\n",
      "    \"MATR_b2c2\",\n",
      "    \"RWTH_041\",\n",
      "    \"HUST_10-4\",\n",
      "    \"MATR_b2c13\",\n",
      "    \"MATR_b4c42\",\n",
      "    \"RWTH_044\",\n",
      "    \"RWTH_035\",\n",
      "    \"MATR_b3c20\",\n",
      "    \"HNEI_18650_NMC_LCO_25C_0-100_0.5-1.5C_t\",\n",
      "    \"HUST_4-1\",\n",
      "    \"HUST_10-7\",\n",
      "    \"MATR_b3c40\",\n",
      "    \"HUST_8-8\",\n",
      "    \"RWTH_023\",\n",
      "    \"HUST_7-3\",\n",
      "    \"MATR_b1c18\",\n",
      "    \"HNEI_18650_NMC_LCO_25C_0-100_0.5-1.5C_s\",\n",
      "    \"MATR_b4c1\",\n",
      "    \"MATR_b1c8\",\n",
      "    \"HUST_9-7\",\n",
      "    \"MATR_b2c25\",\n",
      "    \"MATR_b2c36\",\n",
      "    \"MATR_b3c13\",\n",
      "    \"MATR_b2c19\",\n",
      "    \"MATR_b2c47\",\n",
      "    \"MATR_b4c34\",\n",
      "    \"MATR_b4c2\",\n",
      "    \"RWTH_002\",\n",
      "    \"MATR_b3c19\",\n",
      "    \"MATR_b4c9\",\n"
     ]
    }
   ],
   "source": [
    "for cell in matched_cells:\n",
    "    print(f'    \"{cell.cell_id}\",')"
   ]
  },
  {
   "cell_type": "code",
   "execution_count": 17,
   "metadata": {},
   "outputs": [],
   "source": [
    "test_ids = [\n",
    "    \"HUST_1-1\",\n",
    "    \"MATR_b3c7\",\n",
    "    \"RWTH_011\",\n",
    "    \"RWTH_032\",\n",
    "    \"MATR_b2c27\",\n",
    "    \"MATR_b1c3\",\n",
    "    \"MATR_b4c14\",\n",
    "    \"RWTH_040\",\n",
    "    \"MATR_b1c16\",\n",
    "    \"HUST_1-8\",\n",
    "    \"RWTH_015\",\n",
    "    \"MATR_b3c1\",\n",
    "    \"MATR_b4c38\",\n",
    "    \"UL-PUR_N10-NA7_18650_NCA_23C_0-100_0.5-0.5C_g\",\n",
    "    \"MATR_b3c9\",\n",
    "    \"CALCE_CS2_35\",\n",
    "    \"UL-PUR_N20-NA6_18650_NCA_23C_0-100_0.5-0.5C_f\",\n",
    "    \"HUST_5-1\",\n",
    "    \"MATR_b3c4\",\n",
    "    \"MATR_b1c26\",\n",
    "    \"HUST_4-4\",\n",
    "    \"MATR_b4c4\",\n",
    "    \"HUST_8-4\",\n",
    "    \"RWTH_030\",\n",
    "    \"MATR_b3c12\",\n",
    "    \"HNEI_18650_NMC_LCO_25C_0-100_0.5-1.5C_e\",\n",
    "    \"RWTH_003\",\n",
    "    \"MATR_b2c26\",\n",
    "    \"MATR_b1c44\",\n",
    "    \"MATR_b1c40\",\n",
    "    \"MATR_b4c19\",\n",
    "    \"HUST_3-6\",\n",
    "    \"MATR_b3c24\",\n",
    "    \"MATR_b2c12\",\n",
    "    \"MATR_b3c17\",\n",
    "    \"HUST_5-2\",\n",
    "    \"MATR_b1c32\",\n",
    "    \"MATR_b2c30\",\n",
    "    \"MATR_b2c11\",\n",
    "    \"MATR_b1c14\",\n",
    "    \"HUST_7-5\",\n",
    "    \"HUST_2-6\",\n",
    "    \"MATR_b3c18\",\n",
    "    \"RWTH_036\",\n",
    "    \"HUST_10-8\",\n",
    "    \"MATR_b4c41\",\n",
    "    \"UL-PUR_N10-OV8_18650_NCA_23C_0-100_0.5-0.5C_h\",\n",
    "    \"MATR_b4c22\",\n",
    "    \"MATR_b1c42\",\n",
    "    \"MATR_b2c43\",\n",
    "    \"MATR_b1c19\",\n",
    "    \"HUST_1-4\",\n",
    "    \"RWTH_048\",\n",
    "    \"HNEI_18650_NMC_LCO_25C_0-100_0.5-1.5C_a\",\n",
    "    \"UL-PUR_N15-OV3_18650_NCA_23C_0-100_0.5-0.5C_c\",\n",
    "    \"RWTH_045\",\n",
    "    \"RWTH_028\",\n",
    "    \"MATR_b2c23\",\n",
    "    \"HUST_3-4\",\n",
    "    \"RWTH_034\",\n",
    "    \"MATR_b2c34\",\n",
    "    \"MATR_b3c16\",\n",
    "    \"MATR_b2c33\",\n",
    "    \"MATR_b1c34\",\n",
    "    \"MATR_b3c15\",\n",
    "    \"MATR_b3c33\",\n",
    "    \"HUST_8-7\",\n",
    "    \"HUST_10-2\",\n",
    "    \"MATR_b4c33\",\n",
    "    \"MATR_b1c31\",\n",
    "    \"HUST_4-2\",\n",
    "    \"HUST_8-6\",\n",
    "    \"UL-PUR_N20-EX2_18650_NCA_23C_0-100_0.5-0.5C_b\",\n",
    "    \"MATR_b1c7\",\n",
    "    \"MATR_b3c11\",\n",
    "    \"RWTH_012\",\n",
    "    \"MATR_b3c10\",\n",
    "    \"MATR_b4c16\",\n",
    "    \"MATR_b3c41\",\n",
    "    \"RWTH_027\",\n",
    "    \"RWTH_005\",\n",
    "    \"MATR_b4c8\",\n",
    "    \"HUST_6-2\",\n",
    "    \"HNEI_18650_NMC_LCO_25C_0-100_0.5-1.5C_l\",\n",
    "    \"MATR_b3c14\",\n",
    "    \"MATR_b2c1\",\n",
    "    \"HUST_4-6\",\n",
    "    \"MATR_b3c21\",\n",
    "    \"RWTH_039\",\n",
    "    \"MATR_b4c26\",\n",
    "    \"MATR_b3c2\",\n",
    "    \"MATR_b4c24\",\n",
    "    \"MATR_b3c22\",\n",
    "    \"CALCE_CX2_34\",\n",
    "    \"MATR_b1c5\",\n",
    "    \"RWTH_019\",\n",
    "    \"CALCE_CX2_36\",\n",
    "    \"HUST_6-6\",\n",
    "    \"RWTH_037\",\n",
    "    \"MATR_b4c1\",\n",
    "    \"HUST_10-1\",\n",
    "    \"MATR_b4c29\",\n",
    "    \"HUST_9-4\",\n",
    "    \"HUST_8-1\",\n",
    "    \"MATR_b4c7\",\n",
    "    \"MATR_b3c32\",\n",
    "    \"MATR_b4c0\",\n",
    "    \"MATR_b2c2\",\n",
    "    \"RWTH_041\",\n",
    "    \"HUST_10-4\",\n",
    "    \"MATR_b2c13\",\n",
    "    \"MATR_b4c42\",\n",
    "    \"RWTH_044\",\n",
    "    \"RWTH_035\",\n",
    "    \"MATR_b3c0\",\n",
    "    \"HNEI_18650_NMC_LCO_25C_0-100_0.5-1.5C_t\",\n",
    "    \"HUST_4-1\",\n",
    "    \"HUST_10-7\",\n",
    "    \"MATR_b3c13\",\n",
    "    \"HUST_8-8\",\n",
    "    \"RWTH_023\",\n",
    "    \"HUST_7-3\",\n",
    "    \"MATR_b1c18\",\n",
    "    \"HNEI_18650_NMC_LCO_25C_0-100_0.5-1.5C_s\",\n",
    "    \"MATR_b4c20\",\n",
    "    \"MATR_b1c8\",\n",
    "    \"HUST_9-7\",\n",
    "    \"MATR_b2c25\",\n",
    "    \"MATR_b2c36\",\n",
    "    \"MATR_b3c40\",\n",
    "    \"MATR_b2c19\",\n",
    "    \"MATR_b2c47\",\n",
    "    \"MATR_b4c34\",\n",
    "    \"MATR_b4c2\",\n",
    "    \"RWTH_002\",\n",
    "    \"MATR_b3c3\",\n",
    "    \"MATR_b4c9\",\n",
    "]"
   ]
  },
  {
   "cell_type": "code",
   "execution_count": 19,
   "metadata": {},
   "outputs": [
    {
     "data": {
      "text/plain": [
       "('MATR_b1c18', 'MATR_b1c18')"
      ]
     },
     "execution_count": 19,
     "metadata": {},
     "output_type": "execute_result"
    }
   ],
   "source": [
    "test_ids[122], matched_cells[122].cell_id"
   ]
  },
  {
   "cell_type": "code",
   "execution_count": 55,
   "metadata": {},
   "outputs": [
    {
     "data": {
      "application/vnd.jupyter.widget-view+json": {
       "model_id": "535b3c1695224107887d9038b36350af",
       "version_major": 2,
       "version_minor": 0
      },
      "text/plain": [
       "  0%|          | 0/147 [00:00<?, ?it/s]"
      ]
     },
     "metadata": {},
     "output_type": "display_data"
    }
   ],
   "source": [
    "matched = [False] * len(all_batteries)\n",
    "matched_cells = []\n",
    "for cache_feat in tqdm(cache_mix20_labels):\n",
    "    found_match = False\n",
    "    for index, (cell, feat) in enumerate(\n",
    "        zip(all_batteries, all_mix20_feats)\n",
    "    ):\n",
    "        if not matched[index] and (feat - cache_feat).abs().mean() < 1e-2:\n",
    "            matched[index] = True\n",
    "            found_match = True\n",
    "            matched_cells.append(cell)\n",
    "            break\n",
    "    if not found_match:\n",
    "        raise"
   ]
  },
  {
   "cell_type": "code",
   "execution_count": 56,
   "metadata": {},
   "outputs": [
    {
     "name": "stdout",
     "output_type": "stream",
     "text": [
      "    \"RWTH_011\",\n",
      "    \"HUST_9-1\",\n",
      "    \"MATR_b2c31\",\n",
      "    \"CALCE_CS2_36\",\n",
      "    \"MATR_b3c24\",\n",
      "    \"MATR_b3c45\",\n",
      "    \"RWTH_032\",\n",
      "    \"HUST_3-8\",\n",
      "    \"MATR_b4c36\",\n",
      "    \"RWTH_049\",\n",
      "    \"HUST_8-3\",\n",
      "    \"HUST_10-8\",\n",
      "    \"MATR_b4c23\",\n",
      "    \"SNL_18650_NCA_25C_20-80_0.5-0.5C_d\",\n",
      "    \"CALCE_CX2_38\",\n",
      "    \"RWTH_046\",\n",
      "    \"HUST_6-4\",\n",
      "    \"MATR_b1c11\",\n",
      "    \"HUST_10-5\",\n",
      "    \"UL-PUR_N20-NA6_18650_NCA_23C_0-100_0.5-0.5C_f\",\n",
      "    \"MATR_b4c38\",\n",
      "    \"HUST_7-6\",\n",
      "    \"RWTH_013\",\n",
      "    \"HUST_7-3\",\n",
      "    \"RWTH_008\",\n",
      "    \"MATR_b4c5\",\n",
      "    \"HUST_2-3\",\n",
      "    \"HUST_4-5\",\n",
      "    \"MATR_b1c0\",\n",
      "    \"HUST_6-3\",\n",
      "    \"SNL_18650_NCA_25C_0-100_0.5-0.5C_a\",\n",
      "    \"MATR_b1c12\",\n",
      "    \"MATR_b1c39\",\n",
      "    \"MATR_b2c26\",\n",
      "    \"CALCE_CX2_16\",\n",
      "    \"HUST_1-7\",\n",
      "    \"HUST_9-6\",\n",
      "    \"MATR_b3c2\",\n",
      "    \"MATR_b1c3\",\n",
      "    \"RWTH_025\",\n",
      "    \"HUST_1-3\",\n",
      "    \"RWTH_031\",\n",
      "    \"MATR_b4c44\",\n",
      "    \"HUST_2-6\",\n",
      "    \"MATR_b2c24\",\n",
      "    \"MATR_b2c32\",\n",
      "    \"MATR_b4c27\",\n",
      "    \"SNL_18650_NCA_25C_20-80_0.5-0.5C_a\",\n",
      "    \"MATR_b3c7\",\n",
      "    \"MATR_b2c33\",\n",
      "    \"MATR_b3c1\",\n",
      "    \"MATR_b3c0\",\n",
      "    \"HUST_6-2\",\n",
      "    \"HUST_4-3\",\n",
      "    \"RWTH_048\",\n",
      "    \"SNL_18650_NCA_35C_0-100_0.5-1C_b\",\n",
      "    \"UL-PUR_N15-OV3_18650_NCA_23C_0-100_0.5-0.5C_c\",\n",
      "    \"RWTH_045\",\n",
      "    \"RWTH_028\",\n",
      "    \"MATR_b4c35\",\n",
      "    \"HUST_4-7\",\n",
      "    \"RWTH_034\",\n",
      "    \"SNL_18650_LFP_25C_0-100_0.5-1C_d\",\n",
      "    \"SNL_18650_LFP_25C_0-100_0.5-3C_c\",\n",
      "    \"SNL_18650_LFP_25C_0-100_0.5-1C_c\",\n",
      "    \"MATR_b4c31\",\n",
      "    \"MATR_b2c45\",\n",
      "    \"MATR_b2c12\",\n",
      "    \"MATR_b4c1\",\n",
      "    \"HUST_4-6\",\n",
      "    \"MATR_b1c42\",\n",
      "    \"MATR_b3c8\",\n",
      "    \"MATR_b3c17\",\n",
      "    \"HUST_1-2\",\n",
      "    \"HUST_9-4\",\n",
      "    \"HUST_1-1\",\n",
      "    \"MATR_b4c8\",\n",
      "    \"HUST_10-6\",\n",
      "    \"HUST_4-4\",\n",
      "    \"UL-PUR_N20-EX2_18650_NCA_23C_0-100_0.5-0.5C_b\",\n",
      "    \"MATR_b4c32\",\n",
      "    \"HUST_8-8\",\n",
      "    \"MATR_b1c32\",\n",
      "    \"RWTH_012\",\n",
      "    \"MATR_b1c44\",\n",
      "    \"MATR_b2c39\",\n",
      "    \"MATR_b2c14\",\n",
      "    \"RWTH_027\",\n",
      "    \"RWTH_005\",\n",
      "    \"MATR_b2c22\",\n",
      "    \"MATR_b4c6\",\n",
      "    \"SNL_18650_LFP_35C_0-100_0.5-1C_c\",\n",
      "    \"MATR_b2c23\",\n",
      "    \"SNL_18650_LFP_35C_0-100_0.5-1C_b\",\n",
      "    \"RWTH_039\",\n",
      "    \"MATR_b2c41\",\n",
      "    \"SNL_18650_LFP_15C_0-100_0.5-2C_b\",\n",
      "    \"MATR_b3c15\",\n",
      "    \"MATR_b1c6\",\n",
      "    \"HUST_10-1\",\n",
      "    \"CALCE_CX2_34\",\n",
      "    \"HUST_2-8\",\n",
      "    \"HUST_8-4\",\n",
      "    \"MATR_b3c4\",\n",
      "    \"RWTH_019\",\n",
      "    \"CALCE_CX2_36\",\n",
      "    \"MATR_b1c16\",\n",
      "    \"RWTH_037\",\n",
      "    \"MATR_b1c33\",\n",
      "    \"MATR_b3c18\",\n",
      "    \"MATR_b1c40\",\n",
      "    \"MATR_b1c28\",\n",
      "    \"HUST_6-6\",\n",
      "    \"HUST_1-8\",\n",
      "    \"MATR_b2c10\",\n",
      "    \"MATR_b1c21\",\n",
      "    \"MATR_b4c22\",\n",
      "    \"RWTH_041\",\n",
      "    \"MATR_b1c45\",\n",
      "    \"MATR_b4c17\",\n",
      "    \"MATR_b3c12\",\n",
      "    \"HUST_3-3\",\n",
      "    \"RWTH_044\",\n",
      "    \"HUST_5-5\",\n",
      "    \"RWTH_035\",\n",
      "    \"MATR_b1c8\",\n",
      "    \"SNL_18650_NCA_25C_20-80_0.5-0.5C_c\",\n",
      "    \"MATR_b4c34\",\n",
      "    \"HUST_7-5\",\n",
      "    \"MATR_b4c11\",\n",
      "    \"HUST_5-7\",\n",
      "    \"RWTH_023\",\n",
      "    \"MATR_b3c6\",\n",
      "    \"SNL_18650_LFP_25C_0-100_0.5-3C_a\",\n",
      "    \"MATR_b2c30\",\n",
      "    \"MATR_b3c25\",\n",
      "    \"MATR_b4c25\",\n",
      "    \"MATR_b4c9\",\n",
      "    \"MATR_b1c36\",\n",
      "    \"MATR_b3c31\",\n",
      "    \"MATR_b1c22\",\n",
      "    \"MATR_b2c43\",\n",
      "    \"MATR_b1c26\",\n",
      "    \"RWTH_002\",\n",
      "    \"MATR_b4c20\",\n",
      "    \"HUST_8-7\",\n",
      "    \"MATR_b2c11\",\n"
     ]
    }
   ],
   "source": [
    "for cell in matched_cells:\n",
    "    print(f'    \"{cell.cell_id}\",')"
   ]
  },
  {
   "cell_type": "code",
   "execution_count": 18,
   "metadata": {},
   "outputs": [],
   "source": [
    "# TODO: select a cell from training files with similar label to substitute the MATR_b1c18"
   ]
  },
  {
   "cell_type": "code",
   "execution_count": 34,
   "metadata": {},
   "outputs": [],
   "source": [
    "train_cells = [cell for cell in all_batteries if cell not in matched_cells]"
   ]
  },
  {
   "cell_type": "code",
   "execution_count": 35,
   "metadata": {},
   "outputs": [
    {
     "data": {
      "text/plain": [
       "266"
      ]
     },
     "execution_count": 35,
     "metadata": {},
     "output_type": "execute_result"
    }
   ],
   "source": [
    "len(train_cells)"
   ]
  },
  {
   "cell_type": "code",
   "execution_count": 36,
   "metadata": {},
   "outputs": [
    {
     "data": {
      "text/plain": [
       "137"
      ]
     },
     "execution_count": 36,
     "metadata": {},
     "output_type": "execute_result"
    }
   ],
   "source": [
    "len(matched_cells)"
   ]
  }
 ],
 "metadata": {
  "kernelspec": {
   "display_name": "base",
   "language": "python",
   "name": "python3"
  },
  "language_info": {
   "codemirror_mode": {
    "name": "ipython",
    "version": 3
   },
   "file_extension": ".py",
   "mimetype": "text/x-python",
   "name": "python",
   "nbconvert_exporter": "python",
   "pygments_lexer": "ipython3",
   "version": "3.10.13"
  },
  "orig_nbformat": 4
 },
 "nbformat": 4,
 "nbformat_minor": 2
}
